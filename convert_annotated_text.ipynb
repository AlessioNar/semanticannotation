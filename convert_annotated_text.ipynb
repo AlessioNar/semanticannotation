{
 "cells": [
  {
   "cell_type": "code",
   "execution_count": 70,
   "metadata": {},
   "outputs": [],
   "source": [
    "# Load jsonl file\n",
    "\n",
    "import json\n",
    "import pandas as pd\n",
    "\n",
    "\n",
    "file = open('data/jsonl/admin.jsonl', 'r')\n"
   ]
  },
  {
   "cell_type": "code",
   "execution_count": 71,
   "metadata": {},
   "outputs": [],
   "source": [
    "\n",
    "# Read file line by line\n",
    "lines = file.readlines()\n",
    "\n",
    "# Load each line as json\n",
    "jsons = [json.loads(line) for line in lines]\n",
    "\n"
   ]
  },
  {
   "cell_type": "code",
   "execution_count": 72,
   "metadata": {},
   "outputs": [],
   "source": [
    "# Read each json object into a dictionary\n",
    "\n",
    "# Create empty dictionary\n",
    "dict = {'id': [], 'text': [], 'entities': []}\n",
    "\n",
    "# Loop through each json object\n",
    "\n",
    "for json in jsons:\n",
    "    # Append id\n",
    "    dict['id'].append(json['id'])\n",
    "    \n",
    "    # Append text\n",
    "    dict['text'].append(json['text'])\n",
    "    \n",
    "    # Append label\n",
    "    dict['entities'].append(json['entities'])\n"
   ]
  },
  {
   "cell_type": "code",
   "execution_count": 75,
   "metadata": {},
   "outputs": [],
   "source": [
    "entities = dict['entities']"
   ]
  },
  {
   "cell_type": "code",
   "execution_count": 76,
   "metadata": {},
   "outputs": [],
   "source": [
    "df = pd.DataFrame()\n",
    "\n",
    "# Order the entities by \n",
    "\n",
    "for entity in entities:\n",
    "    temp_df = pd.DataFrame(entity)\n",
    "    # remove the column id \n",
    "    #temp_df = temp_df.drop('id', axis=1)\n",
    "    \n",
    "    df = pd.concat([df, temp_df])\n"
   ]
  },
  {
   "cell_type": "code",
   "execution_count": null,
   "metadata": {},
   "outputs": [],
   "source": [
    "# invert the dictionary\n",
    "#dict = {v: k for k, v in dict.items()}\n",
    "#dict"
   ]
  },
  {
   "cell_type": "code",
   "execution_count": 77,
   "metadata": {},
   "outputs": [
    {
     "data": {
      "text/html": [
       "<div>\n",
       "<style scoped>\n",
       "    .dataframe tbody tr th:only-of-type {\n",
       "        vertical-align: middle;\n",
       "    }\n",
       "\n",
       "    .dataframe tbody tr th {\n",
       "        vertical-align: top;\n",
       "    }\n",
       "\n",
       "    .dataframe thead th {\n",
       "        text-align: right;\n",
       "    }\n",
       "</style>\n",
       "<table border=\"1\" class=\"dataframe\">\n",
       "  <thead>\n",
       "    <tr style=\"text-align: right;\">\n",
       "      <th></th>\n",
       "      <th>id</th>\n",
       "      <th>label</th>\n",
       "      <th>start_offset</th>\n",
       "      <th>end_offset</th>\n",
       "    </tr>\n",
       "  </thead>\n",
       "  <tbody>\n",
       "    <tr>\n",
       "      <th>0</th>\n",
       "      <td>1</td>\n",
       "      <td>Work</td>\n",
       "      <td>42</td>\n",
       "      <td>48</td>\n",
       "    </tr>\n",
       "    <tr>\n",
       "      <th>1</th>\n",
       "      <td>2</td>\n",
       "      <td>Work</td>\n",
       "      <td>105</td>\n",
       "      <td>116</td>\n",
       "    </tr>\n",
       "    <tr>\n",
       "      <th>2</th>\n",
       "      <td>3</td>\n",
       "      <td>Work</td>\n",
       "      <td>123</td>\n",
       "      <td>129</td>\n",
       "    </tr>\n",
       "  </tbody>\n",
       "</table>\n",
       "</div>"
      ],
      "text/plain": [
       "   id label  start_offset  end_offset\n",
       "0   1  Work            42          48\n",
       "1   2  Work           105         116\n",
       "2   3  Work           123         129"
      ]
     },
     "execution_count": 77,
     "metadata": {},
     "output_type": "execute_result"
    }
   ],
   "source": [
    "df.head()"
   ]
  },
  {
   "cell_type": "code",
   "execution_count": 80,
   "metadata": {},
   "outputs": [],
   "source": [
    "# Extracting information from the dictionary\n",
    "\n",
    "entities = dict['entities'][0]\n"
   ]
  },
  {
   "cell_type": "code",
   "execution_count": 89,
   "metadata": {},
   "outputs": [
    {
     "name": "stdout",
     "output_type": "stream",
     "text": [
      "Sono protette ai sensi di questa legge le opere dell'ingegno di carattere creativo che appartengono alla letteratura, alla musica, alle arti figurative, all'architettura, al teatro ed alla cinematografia, qualunque ne sia il modo o la forma di espressione.\n"
     ]
    }
   ],
   "source": [
    "\n",
    "print(text)"
   ]
  },
  {
   "cell_type": "code",
   "execution_count": 95,
   "metadata": {},
   "outputs": [
    {
     "name": "stdout",
     "output_type": "stream",
     "text": [
      "Sono protette ai sensi di questa legge le opere dell'ingegno di carattere creativo che appartengono alla letteratura, alla musica, alle arti figurative, all'architettura, al teatro ed alla cinematografia, qualunque ne sia il modo o la forma di espressione.\n",
      "Sono protette ai sensi di questa legge le <lrml:Work> opere dell'ingegno di carattere creativo che appartengono alla letteratura, alla musica, alle arti figurative, all'architettura, al teatro ed alla cinematografia, qualunque ne sia il modo o la forma di espressione.\n",
      "Sono protette ai sensi di questa legge le <lrml:Work> opere </lrml:Work> dell'ingegno di carattere creativo che appartengono alla letteratura, alla musica, alle arti figurative, all'architettura, al teatro ed alla cinematografia, qualunque ne sia il modo o la forma di espressione.\n",
      "Sono protette ai sensi di questa legge le <lrml:Work> opere </lrml:Work> dell'ingegno di carattere creativo che appartengono alla <lrml:Work> letteratura, alla musica, alle arti figurative, all'architettura, al teatro ed alla cinematografia, qualunque ne sia il modo o la forma di espressione.\n",
      "Sono protette ai sensi di questa legge le <lrml:Work> opere </lrml:Work> dell'ingegno di carattere creativo che appartengono alla <lrml:Work> letteratura</lrml:Work> , alla musica, alle arti figurative, all'architettura, al teatro ed alla cinematografia, qualunque ne sia il modo o la forma di espressione.\n",
      "Sono protette ai sensi di questa legge le <lrml:Work> opere </lrml:Work> dell'ingegno di carattere creativo che appartengono alla <lrml:Work> letteratura</lrml:Work> , alla <lrml:Work> musica, alle arti figurative, all'architettura, al teatro ed alla cinematografia, qualunque ne sia il modo o la forma di espressione.\n",
      "Sono protette ai sensi di questa legge le <lrml:Work> opere </lrml:Work> dell'ingegno di carattere creativo che appartengono alla <lrml:Work> letteratura</lrml:Work> , alla <lrml:Work> musica</lrml:Work> , alle arti figurative, all'architettura, al teatro ed alla cinematografia, qualunque ne sia il modo o la forma di espressione.\n"
     ]
    }
   ],
   "source": [
    "# Initialize an offset variable to keep track of the positions after inserting closing tags\n",
    "offset = 0\n",
    "text = dict['text'][0]\n",
    "print(text)\n",
    "# Loop through the entities and insert tags at the corresponding end_offset and start_offset\n",
    "for i, tag in df.iterrows():\n",
    "    \n",
    "    # Extract the entity label and the start and end offsets\n",
    "    label = tag['label']\n",
    "    start_offset = tag['start_offset']\n",
    "    end_offset = tag['end_offset']\n",
    "\n",
    "    # Create the opening and closing tags using the label\n",
    "    opening_tag = f\"<lrml:{label}> \"\n",
    "    closing_tag = f\"</lrml:{label}> \"\n",
    "\n",
    "\n",
    "    # Insert the opening tag into the text at the corresponding position\n",
    "    text = text[:start_offset+offset] + opening_tag + text[start_offset+offset:]\n",
    "    print(text)\n",
    "    \n",
    "    offset = offset + len(opening_tag)\n",
    "\n",
    "    # Insert the closing tag into the text at the corresponding position\n",
    "    text = text[:end_offset+offset] + closing_tag + text[end_offset+offset:]\n",
    "    print(text)\n",
    "\n",
    "   \n",
    "\n",
    "    offset = offset + len(closing_tag)\n",
    "   \n",
    "\n"
   ]
  },
  {
   "cell_type": "code",
   "execution_count": null,
   "metadata": {},
   "outputs": [],
   "source": [
    "# For each entity, read the key label and save it as a variable\n",
    "# Read the start_offset and end_offset and save it as variables\n",
    "# Write a loop, where at the corresponding numerical value of end_offset\n",
    "# In the string, insert a tag with the label as the value: ex, </lrml:Work>\n",
    "#   \n",
    "# The value of\n",
    "\n",
    "# Representation will be a tag with <lrml:Obligation key=\"oblig1\" iri=\"ex:achievementObligation\">\n",
    "# </lrml:Obligation>"
   ]
  },
  {
   "cell_type": "code",
   "execution_count": 4,
   "metadata": {},
   "outputs": [
    {
     "name": "stdout",
     "output_type": "stream",
     "text": [
      "{'id': 1430, 'text': \"Sono protette ai sensi di questa legge le opere dell'ingegno di carattere creativo che appartengono alla letteratura, alla musica, alle arti figurative, all'architettura, al teatro ed alla cinematografia, qualunque ne sia il modo o la forma di espressione.\", 'entities': [{'id': 1, 'label': 'Work', 'start_offset': 42, 'end_offset': 48}, {'id': 2, 'label': 'Work', 'start_offset': 105, 'end_offset': 116}, {'id': 3, 'label': 'Work', 'start_offset': 123, 'end_offset': 129}], 'relations': [], 'Comments': []}\n"
     ]
    }
   ],
   "source": [
    "print(jsons[0])"
   ]
  },
  {
   "cell_type": "code",
   "execution_count": null,
   "metadata": {},
   "outputs": [],
   "source": []
  },
  {
   "cell_type": "code",
   "execution_count": null,
   "metadata": {},
   "outputs": [],
   "source": []
  },
  {
   "cell_type": "code",
   "execution_count": null,
   "metadata": {},
   "outputs": [],
   "source": []
  }
 ],
 "metadata": {
  "kernelspec": {
   "display_name": ".venv",
   "language": "python",
   "name": "python3"
  },
  "language_info": {
   "codemirror_mode": {
    "name": "ipython",
    "version": 3
   },
   "file_extension": ".py",
   "mimetype": "text/x-python",
   "name": "python",
   "nbconvert_exporter": "python",
   "pygments_lexer": "ipython3",
   "version": "3.11.4"
  },
  "orig_nbformat": 4
 },
 "nbformat": 4,
 "nbformat_minor": 2
}
